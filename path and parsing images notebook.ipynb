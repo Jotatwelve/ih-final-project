{
 "cells": [
  {
   "cell_type": "markdown",
   "metadata": {},
   "source": [
    "# CROP FACES FROM IMAGE DATASET"
   ]
  },
  {
   "cell_type": "markdown",
   "metadata": {},
   "source": [
    "##  Notebook Description"
   ]
  },
  {
   "cell_type": "markdown",
   "metadata": {},
   "source": [
    "First of all, in order to classify the images we are going to crop all the faces that appears in our images.\n",
    "\n",
    "\n",
    "After that, we will resize these images."
   ]
  },
  {
   "cell_type": "markdown",
   "metadata": {},
   "source": [
    "## Libraries"
   ]
  },
  {
   "cell_type": "code",
   "execution_count": null,
   "metadata": {
    "ExecuteTime": {
     "start_time": "2020-05-23T06:13:23.672Z"
    }
   },
   "outputs": [],
   "source": [
    "# ///Basic libraries\n",
    "import numpy as np\n",
    "import pandas as pd\n",
    "import random\n",
    "\n",
    "# ///Path files and xml manipulation\n",
    "from os.path import isfile, join\n",
    "import xmltodict\n",
    "import os\n",
    "from os import listdir\n",
    "\n",
    "# // Image processing\n",
    "import cv2\n",
    "\n",
    "# ///Visualization\n",
    "import matplotlib.pyplot as plt\n",
    "import seaborn as sns\n",
    "\n",
    "#/////////////////TENSORFLOW LIBRARIES OK\n",
    "#import tensorflow as tf\n",
    "#from tensorflow.keras.utils import Progbar\n",
    "#from tensorflow.keras.models import Model, Sequential\n",
    "#from tensorflow.keras.layers import Dense, Dropout, Conv2D, MaxPooling2D, Flatten, GlobalMaxPooling2D, Input\n",
    "#from tensorflow.keras.preprocessing.image import ImageDataGenerator\n",
    "#from tensorflow.keras import applications\n",
    "\n",
    "\n",
    "#import glob\n",
    "#import math\n",
    "\n",
    "\n",
    "%matplotlib inline"
   ]
  },
  {
   "cell_type": "markdown",
   "metadata": {},
   "source": [
    "## Functions"
   ]
  },
  {
   "cell_type": "code",
   "execution_count": null,
   "metadata": {
    "ExecuteTime": {
     "start_time": "2020-05-23T06:13:24.206Z"
    }
   },
   "outputs": [],
   "source": [
    "def getImageNames():\n",
    "    \n",
    "    \"\"\"\n",
    "    This function give us all the image names of our dataset\n",
    "    \"\"\"\n",
    "    \n",
    "    image_names = []\n",
    "    \n",
    "    for dirname, _, filenames in os.walk('../ih-final-project/data/'):\n",
    "        for filename in filenames:\n",
    "            fullpath = os.path.join(dirname, filename)\n",
    "            extension = fullpath[len(fullpath) - 4:]\n",
    "            if extension != '.xml':\n",
    "                image_names.append(filename)\n",
    "                \n",
    "    return image_names\n"
   ]
  },
  {
   "cell_type": "code",
   "execution_count": null,
   "metadata": {
    "ExecuteTime": {
     "start_time": "2020-05-23T06:13:24.741Z"
    }
   },
   "outputs": [],
   "source": [
    "image_names"
   ]
  },
  {
   "cell_type": "code",
   "execution_count": null,
   "metadata": {
    "ExecuteTime": {
     "start_time": "2020-05-23T06:13:26.314Z"
    }
   },
   "outputs": [],
   "source": [
    "def get_path(image_name):\n",
    "    \"\"\"\n",
    "    This function extract the image and label path to reassign the same name to both files.\n",
    "    And return the new image and label path of the images.\n",
    "    \n",
    "    \"\"\"\n",
    "    \n",
    "    original_path = '../data/medical-masks-dataset/images/'\n",
    "    image_path = original_path + 'images/' + image_name\n",
    "    \n",
    "    #we have .jpeg .jpg .png\n",
    "    if image_name[-4:] == 'jpeg':\n",
    "        label_name = image_name[:-5] + '.xml'\n",
    "    else:\n",
    "        label_name = image_name[:-4] + '.xml'\n",
    "    \n",
    "    label_path = original_path + 'labels/' + label_name\n",
    "        \n",
    "    return  image_path, label_path"
   ]
  },
  {
   "cell_type": "code",
   "execution_count": null,
   "metadata": {
    "ExecuteTime": {
     "start_time": "2020-05-23T06:13:26.616Z"
    }
   },
   "outputs": [],
   "source": [
    "def parse_xml(label_path):\n",
    "    \n",
    "    \"\"\"\n",
    "    With this function we can obtain the necessary information of each image.\n",
    "    XML files contain their descriptions like their locations and labels good, none or bad.\n",
    "    \n",
    "    \"\"\"\n",
    "    \n",
    "    x = xmltodict.parse(open(label_path , 'rb'))\n",
    "    item_list = x['annotation']['object']\n",
    "    \n",
    "  \n",
    "    if not isinstance(item_list, list):\n",
    "        item_list = [item_list]\n",
    "    #we use isinstance if we only have one person in the image.\n",
    "    \n",
    "    result = []\n",
    "    \n",
    "    for item in item_list:\n",
    "        name = item['name']\n",
    "        findfacebox = [(int(item['findfacebox']['xmin']), int(item['findfacebox']['ymin'])),\n",
    "                  (int(item['findfacebox']['xmax']), int(item['findfacebox']['ymax']))] \n",
    "        \n",
    "        result.append((name, findfacebox))\n",
    "    \n",
    "    size = [int(x['annotation']['size']['width']), \n",
    "            int(x['annotation']['size']['height'])]\n",
    "    \n",
    "    return result, size\n"
   ]
  },
  {
   "cell_type": "code",
   "execution_count": null,
   "metadata": {
    "ExecuteTime": {
     "start_time": "2020-05-23T06:13:26.861Z"
    }
   },
   "outputs": [],
   "source": [
    "def visualize_image(image_name, findfacebox=True):\n",
    "    \n",
    "    \"\"\"\n",
    "    This function help us to visualize the images that we want with a common size.\n",
    "    \"\"\"\n",
    "    \n",
    "    image_path, label_path = get_path(image_name)\n",
    "    \n",
    "    image = cv2.imread(image_path)\n",
    "    #image = cv2.cvtColor(image, cv2.COLOR_BGR2RGB)\n",
    "    \n",
    "    if findfacebox:\n",
    "        labels, size = parse_xml(label_path)\n",
    "        thickness = int(sum(size)/400.)\n",
    "        \n",
    "        for label in labels:\n",
    "            name, findfacebox = label\n",
    "            \n",
    "            if name == 'good':\n",
    "                cv2.rectangle(image, \n",
    "                              findfacebox[0], \n",
    "                              findfacebox[1], \n",
    "                              (0, 255, 0), thickness)\n",
    "            elif name == 'bad':\n",
    "                cv2.rectangle(image, \n",
    "                              findfacebox[0], \n",
    "                              findfacebox[1], \n",
    "                              (255, 0, 0), \n",
    "                              thickness)\n",
    "            # we only have two cases, good or bad, but equally we take care if exists some incorrect image\n",
    "            else:\n",
    "                cv2.rectangle(image, findfacebox[0], findfacebox[1], (0, 0, 255), thickness)\n",
    "    \n",
    "    plt.figure(figsize=(20, 20))\n",
    "    plt.subplot(1, 2, 1)\n",
    "    plt.axis('off')\n",
    "    plt.title(image_name)\n",
    "    plt.imshow(image)\n",
    "    plt.show()"
   ]
  },
  {
   "cell_type": "code",
   "execution_count": null,
   "metadata": {
    "ExecuteTime": {
     "start_time": "2020-05-23T06:13:27.752Z"
    }
   },
   "outputs": [],
   "source": [
    "image_names = getImageNames()"
   ]
  },
  {
   "cell_type": "code",
   "execution_count": null,
   "metadata": {
    "ExecuteTime": {
     "start_time": "2020-05-23T06:13:28.194Z"
    }
   },
   "outputs": [],
   "source": [
    "n = 5\n",
    "\n",
    "for i in range(n):\n",
    "     visualize_image(image_names[i])"
   ]
  },
  {
   "cell_type": "code",
   "execution_count": null,
   "metadata": {},
   "outputs": [],
   "source": [
    "#This error happened because the image didn't load properly"
   ]
  },
  {
   "cell_type": "code",
   "execution_count": null,
   "metadata": {},
   "outputs": [],
   "source": []
  }
 ],
 "metadata": {
  "kernelspec": {
   "display_name": "Python 3",
   "language": "python",
   "name": "python3"
  },
  "language_info": {
   "codemirror_mode": {
    "name": "ipython",
    "version": 3
   },
   "file_extension": ".py",
   "mimetype": "text/x-python",
   "name": "python",
   "nbconvert_exporter": "python",
   "pygments_lexer": "ipython3",
   "version": "3.7.6"
  },
  "toc": {
   "base_numbering": 1,
   "nav_menu": {},
   "number_sections": true,
   "sideBar": true,
   "skip_h1_title": false,
   "title_cell": "Table of Contents",
   "title_sidebar": "Contents",
   "toc_cell": false,
   "toc_position": {},
   "toc_section_display": true,
   "toc_window_display": false
  },
  "varInspector": {
   "cols": {
    "lenName": 16,
    "lenType": 16,
    "lenVar": 40
   },
   "kernels_config": {
    "python": {
     "delete_cmd_postfix": "",
     "delete_cmd_prefix": "del ",
     "library": "var_list.py",
     "varRefreshCmd": "print(var_dic_list())"
    },
    "r": {
     "delete_cmd_postfix": ") ",
     "delete_cmd_prefix": "rm(",
     "library": "var_list.r",
     "varRefreshCmd": "cat(var_dic_list()) "
    }
   },
   "types_to_exclude": [
    "module",
    "function",
    "builtin_function_or_method",
    "instance",
    "_Feature"
   ],
   "window_display": false
  }
 },
 "nbformat": 4,
 "nbformat_minor": 4
}
