{
 "cells": [
  {
   "cell_type": "code",
   "execution_count": 1,
   "metadata": {
    "ExecuteTime": {
     "end_time": "2020-05-28T16:58:03.007221Z",
     "start_time": "2020-05-28T16:57:40.242714Z"
    }
   },
   "outputs": [],
   "source": [
    "# /// Basic libraries\n",
    "import numpy as np\n",
    "import pandas as pd\n",
    "import random\n",
    "\n",
    "# /// Path files and xml manipulation\n",
    "from os.path import isfile, join\n",
    "import xmltodict #library that treats xmls as json files\n",
    "import os\n",
    "from os import listdir #os library that lists all the directories\n",
    "\n",
    "# /// Image processing\n",
    "import cv2 #opencv\n",
    "\n",
    "# /// Visualization\n",
    "import matplotlib.pyplot as plt\n",
    "import seaborn as sns"
   ]
  },
  {
   "cell_type": "code",
   "execution_count": 2,
   "metadata": {
    "ExecuteTime": {
     "end_time": "2020-05-28T16:58:03.028948Z",
     "start_time": "2020-05-28T16:58:03.020680Z"
    }
   },
   "outputs": [],
   "source": [
    "def path_separation(image_name):\n",
    "    \n",
    "    \"\"\"\n",
    "    This function extract the image and label path to reassign the same name to both files.\n",
    "    And return the new image and label path of the images.\n",
    "    \n",
    "    \"\"\"\n",
    "    \n",
    "    path_master = '../ih-final-project/data/medical-masks-dataset/'\n",
    "    image_path = path_master + 'images/' + image_name\n",
    "    \n",
    "    if image_name[-4:] == 'jpeg':\n",
    "        label_name = image_name[:-5] + '.xml'\n",
    "    else:\n",
    "        label_name = image_name[:-4] + '.xml'\n",
    "    \n",
    "    label_path = path_master + 'labels/' + label_name\n",
    "        \n",
    "    return  image_path, label_path"
   ]
  },
  {
   "cell_type": "code",
   "execution_count": null,
   "metadata": {},
   "outputs": [],
   "source": []
  }
 ],
 "metadata": {
  "kernelspec": {
   "display_name": "Python 3",
   "language": "python",
   "name": "python3"
  },
  "language_info": {
   "codemirror_mode": {
    "name": "ipython",
    "version": 3
   },
   "file_extension": ".py",
   "mimetype": "text/x-python",
   "name": "python",
   "nbconvert_exporter": "python",
   "pygments_lexer": "ipython3",
   "version": "3.7.6"
  },
  "toc": {
   "base_numbering": 1,
   "nav_menu": {},
   "number_sections": true,
   "sideBar": true,
   "skip_h1_title": false,
   "title_cell": "Table of Contents",
   "title_sidebar": "Contents",
   "toc_cell": false,
   "toc_position": {},
   "toc_section_display": true,
   "toc_window_display": false
  },
  "varInspector": {
   "cols": {
    "lenName": 16,
    "lenType": 16,
    "lenVar": 40
   },
   "kernels_config": {
    "python": {
     "delete_cmd_postfix": "",
     "delete_cmd_prefix": "del ",
     "library": "var_list.py",
     "varRefreshCmd": "print(var_dic_list())"
    },
    "r": {
     "delete_cmd_postfix": ") ",
     "delete_cmd_prefix": "rm(",
     "library": "var_list.r",
     "varRefreshCmd": "cat(var_dic_list()) "
    }
   },
   "types_to_exclude": [
    "module",
    "function",
    "builtin_function_or_method",
    "instance",
    "_Feature"
   ],
   "window_display": false
  }
 },
 "nbformat": 4,
 "nbformat_minor": 4
}
