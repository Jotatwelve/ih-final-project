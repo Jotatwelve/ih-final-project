{
 "cells": [
  {
   "cell_type": "code",
   "execution_count": null,
   "metadata": {},
   "outputs": [],
   "source": [
    "# /// Basic libraries\n",
    "import numpy as np\n",
    "import pandas as pd\n",
    "import random\n",
    "\n",
    "# /// Path files and xml manipulation\n",
    "from os.pat1bh import isfile, join\n",
    "import xmltodict #library that treats xmls as json files\n",
    "import os\n",
    "from os import listdir #os library that lists all the directories\n",
    "\n",
    "# /// Image processing\n",
    "import cv2 #opencv\n",
    "from pathlib import Path\n",
    "\n",
    "# /// Visualization\n",
    "import matplotlib.pyplot as plt\n",
    "import seaborn as sns\n",
    "\n"
   ]
  },
  {
   "cell_type": "code",
   "execution_count": null,
   "metadata": {},
   "outputs": [],
   "source": [
    "def directory_creation(dirname):\n",
    "    '''\n",
    "    Function to create directories in our system. The function doesn't create duplicate directories even if we execute\n",
    "    the function multiple times.\n",
    "    '''\n",
    "    try:\n",
    "        os.mkdir(dirname) #create directory\n",
    "    except FileExistsError: #Error founded\n",
    "        print(\"Directory \" + dirname + \" already exists.\")"
   ]
  },
  {
   "cell_type": "code",
   "execution_count": null,
   "metadata": {},
   "outputs": [],
   "source": [
    "def ImageNamesExtraction():\n",
    "    \n",
    "    \"\"\"\n",
    "    This function give us all the image names of our dataset\n",
    "    \"\"\"\n",
    "    \n",
    "    img_names = []\n",
    "    for dirname, _, filenames in os.walk('../ih-final-project/data/medical-masks-dataset/images'):\n",
    "        for filename in filenames:\n",
    "            fullpath = os.path.join(dirname, filename)\n",
    "            extension = fullpath[len(fullpath) - 4:]\n",
    "            if extension != '.xml':\n",
    "                img_names.append(filename)\n",
    "    return img_names"
   ]
  },
  {
   "cell_type": "code",
   "execution_count": null,
   "metadata": {},
   "outputs": [],
   "source": [
    "dir_name = 'train_data/'\n",
    "\n",
    "label_0_dir = dir_name + \"0/\"\n",
    "label_1_dir = dir_name + \"1/\"\n",
    "\n",
    "models_dir = \"models/\"\n",
    "\n",
    "directory_creation(dir_name)\n",
    "directory_creation(label_0_dir)\n",
    "directory_creation(label_1_dir)\n",
    "directory_creation(models_dir)"
   ]
  },
  {
   "cell_type": "code",
   "execution_count": null,
   "metadata": {},
   "outputs": [],
   "source": [
    "def getting_path(img_name):\n",
    "    \n",
    "    \"\"\"\n",
    "    This function extract the image and label path to reassign the same name to both files.\n",
    "    And return the new image and label path of the images.\n",
    "    \n",
    "    \"\"\"\n",
    "    \n",
    "    path_master = '../ih-final-project/data/medical-masks-dataset/'\n",
    "    img_path = path_master + 'images/' + img_name\n",
    "    \n",
    "    if img_name[-4:] == 'jpeg':\n",
    "        lbl_name = img_name[:-5] + '.xml'\n",
    "    else:\n",
    "        lbl_name = img_name[:-4] + '.xml'\n",
    "    \n",
    "    lbl_path = path_master + 'labels/' + lbl_name\n",
    "        \n",
    "    return  img_path, lbl_path"
   ]
  },
  {
   "cell_type": "code",
   "execution_count": null,
   "metadata": {},
   "outputs": [],
   "source": [
    "def images_cropping(img_name):\n",
    "    \n",
    "    img_path, lbl_path = getting_path(img_name)\n",
    "    \n",
    "    # we do the same operation of the previous function. Read and convert color.\n",
    "    image = cv2.imread(img_path)\n",
    "    \n",
    "    image = cv2.cvtColor(image, cv2.COLOR_BGR2RGB)\n",
    "    \n",
    "    # get the labels and size info of the images\n",
    "    labels, size = parse_xml(lbl_path)\n",
    "    \n",
    "    # creating a list with croped image labels\n",
    "    cropedImgLabels = []\n",
    "\n",
    "    for label in labels:\n",
    "        name, bndbox = label\n",
    "        \n",
    "        # we only want the interior part of the boundbox\n",
    "        croped_img = image[bndbox[0][1]:bndbox[1][1], bndbox[0][0]:bndbox[1][0]]\n",
    "        \n",
    "        label_num = 0\n",
    "        \n",
    "        if name == \"good\": # ASSIGN 0 TO GOOD CROPPING\n",
    "            label_num = 0\n",
    "        elif name == \"bad\": # 1 TO BAD CROPPING\n",
    "            label_num = 1\n",
    "        else:\n",
    "            label_num = 2\n",
    "        \n",
    "        cropedImgLabel = [croped_img, label_num]\n",
    "        \n",
    "        cropedImgLabels.append(cropedImgLabel)\n",
    "        \n",
    "    return cropedImgLabels  "
   ]
  },
  {
   "cell_type": "code",
   "execution_count": null,
   "metadata": {},
   "outputs": [],
   "source": [
    "label_0_counter = 0 # GOOD\n",
    "label_1_counter = 0 # BAD\n",
    "\n",
    "for img_name in img_names:\n",
    "    cropedImgLabels = images_cropping(img_name)\n",
    "    \n",
    "    for cropedImgLabel in cropedImgLabels:\n",
    "        \n",
    "        label = cropedImgLabel[1]\n",
    "        img = cropedImgLabel[0]\n",
    "        \n",
    "        if label == 0:\n",
    "            croped_img_name = str(label_0_counter) + \".jpg\"\n",
    "            cv2.imwrite(label_0_dir + croped_img_name, img)\n",
    "            label_0_counter += 1\n",
    "            \n",
    "        elif label == 1:\n",
    "            croped_img_name = str(label_1_counter) + \".jpg\"\n",
    "            cv2.imwrite(label_1_dir + croped_img_name, img)\n",
    "            label_1_counter += 1"
   ]
  }
 ],
 "metadata": {
  "kernelspec": {
   "display_name": "Python 3",
   "language": "python",
   "name": "python3"
  },
  "language_info": {
   "codemirror_mode": {
    "name": "ipython",
    "version": 3
   },
   "file_extension": ".py",
   "mimetype": "text/x-python",
   "name": "python",
   "nbconvert_exporter": "python",
   "pygments_lexer": "ipython3",
   "version": "3.7.6"
  },
  "toc": {
   "base_numbering": 1,
   "nav_menu": {},
   "number_sections": true,
   "sideBar": true,
   "skip_h1_title": false,
   "title_cell": "Table of Contents",
   "title_sidebar": "Contents",
   "toc_cell": false,
   "toc_position": {},
   "toc_section_display": true,
   "toc_window_display": false
  },
  "varInspector": {
   "cols": {
    "lenName": 16,
    "lenType": 16,
    "lenVar": 40
   },
   "kernels_config": {
    "python": {
     "delete_cmd_postfix": "",
     "delete_cmd_prefix": "del ",
     "library": "var_list.py",
     "varRefreshCmd": "print(var_dic_list())"
    },
    "r": {
     "delete_cmd_postfix": ") ",
     "delete_cmd_prefix": "rm(",
     "library": "var_list.r",
     "varRefreshCmd": "cat(var_dic_list()) "
    }
   },
   "types_to_exclude": [
    "module",
    "function",
    "builtin_function_or_method",
    "instance",
    "_Feature"
   ],
   "window_display": false
  }
 },
 "nbformat": 4,
 "nbformat_minor": 4
}
