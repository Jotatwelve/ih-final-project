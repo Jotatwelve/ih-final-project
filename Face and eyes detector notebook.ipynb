{
 "cells": [
  {
   "cell_type": "markdown",
   "metadata": {},
   "source": [
    "# OpenCV video capture"
   ]
  },
  {
   "cell_type": "code",
   "execution_count": 13,
   "metadata": {
    "ExecuteTime": {
     "end_time": "2020-06-04T15:11:59.895439Z",
     "start_time": "2020-06-04T15:11:59.891760Z"
    }
   },
   "outputs": [],
   "source": [
    "import cv2\n",
    "import numpy as np"
   ]
  },
  {
   "cell_type": "code",
   "execution_count": 14,
   "metadata": {
    "ExecuteTime": {
     "end_time": "2020-06-04T15:12:00.196582Z",
     "start_time": "2020-06-04T15:12:00.189456Z"
    }
   },
   "outputs": [],
   "source": [
    "# /// Torchvision\n",
    "import torch #Pytorch\n",
    "import torchvision #pytorch library , contains useful attributes and functionalities\n",
    "import torchvision.models as models #we will import pretrained model resnet 50\n",
    "import torchvision.transforms as transforms  #for various transformations for preprocessing\n",
    "import torchvision.datasets as datasets"
   ]
  },
  {
   "cell_type": "code",
   "execution_count": 15,
   "metadata": {
    "ExecuteTime": {
     "end_time": "2020-06-04T15:12:00.615631Z",
     "start_time": "2020-06-04T15:12:00.522471Z"
    }
   },
   "outputs": [],
   "source": [
    "face_cascade = cv2.CascadeClassifier('/Users/JCasado/Desktop/IRONHACK/ih-final-project/cascades/haarcascade_frontalface_default.xml')"
   ]
  },
  {
   "cell_type": "code",
   "execution_count": 16,
   "metadata": {
    "ExecuteTime": {
     "end_time": "2020-06-04T15:12:00.836553Z",
     "start_time": "2020-06-04T15:12:00.825323Z"
    }
   },
   "outputs": [
    {
     "data": {
      "text/plain": [
       "<CascadeClassifier 0x1293419f0>"
      ]
     },
     "execution_count": 16,
     "metadata": {},
     "output_type": "execute_result"
    }
   ],
   "source": [
    "face_cascade"
   ]
  },
  {
   "cell_type": "code",
   "execution_count": 17,
   "metadata": {
    "ExecuteTime": {
     "end_time": "2020-06-04T15:12:01.390967Z",
     "start_time": "2020-06-04T15:12:01.305348Z"
    }
   },
   "outputs": [],
   "source": [
    "eye_cascade = cv2.CascadeClassifier('/Users/JCasado/Desktop/IRONHACK/ih-final-project/cascades/haarcascade_eye.xml')"
   ]
  },
  {
   "cell_type": "code",
   "execution_count": 18,
   "metadata": {
    "ExecuteTime": {
     "end_time": "2020-06-04T15:12:01.670595Z",
     "start_time": "2020-06-04T15:12:01.664802Z"
    }
   },
   "outputs": [
    {
     "data": {
      "text/plain": [
       "<CascadeClassifier 0x129341a90>"
      ]
     },
     "execution_count": 18,
     "metadata": {},
     "output_type": "execute_result"
    }
   ],
   "source": [
    "eye_cascade"
   ]
  },
  {
   "cell_type": "markdown",
   "metadata": {},
   "source": [
    "Load in the webcam using video capture, 0 to bring in the camera"
   ]
  },
  {
   "cell_type": "code",
   "execution_count": 19,
   "metadata": {
    "ExecuteTime": {
     "end_time": "2020-06-04T15:12:04.967891Z",
     "start_time": "2020-06-04T15:12:04.576399Z"
    }
   },
   "outputs": [],
   "source": [
    "cap = cv2.VideoCapture(0) "
   ]
  },
  {
   "cell_type": "code",
   "execution_count": null,
   "metadata": {
    "ExecuteTime": {
     "start_time": "2020-06-04T15:14:11.595Z"
    }
   },
   "outputs": [],
   "source": [
    "while True:\n",
    "    ret,img = cap.read()\n",
    "    gray = cv2.cvtColor(img, cv2.COLOR_BGR2GRAY)\n",
    "    faces = face_cascade.detectMultiScale(gray,1.1,6) \n",
    "    for (x,y,w,h) in faces:\n",
    "        cv2.rectangle(img,(x,y),(x+w,y+h),(0,0,255),2) #bottom left and top right coordinate\n",
    "        roi_gray = gray[y:y+h,x:x+w]\n",
    "        roi_color = img[y:y+h,x:x+w]\n",
    "        eyes = eye_cascade.detectMultiScale(roi_gray)\n",
    "        for (ex,ey,ew,eh) in eyes:\n",
    "            cv2.rectangle(roi_color,(ex,ey),(ex+ew,ey+eh),(0,255,0),2)\n",
    "            \n",
    "    cv2.imshow('img',img)\n",
    "    k= cv2.waitKey(30) & 0xff\n",
    "    if k==27:\n",
    "        break\n",
    "        \n",
    "cap.release()\n",
    "cv2.destroyAllWindows()"
   ]
  },
  {
   "cell_type": "code",
   "execution_count": null,
   "metadata": {
    "ExecuteTime": {
     "end_time": "2020-06-04T15:12:53.883126Z",
     "start_time": "2020-06-04T15:12:28.055Z"
    }
   },
   "outputs": [],
   "source": [
    "#TESTING\n",
    "while True:\n",
    "    ret,img = cap.read()\n",
    "    gray = cv2.cvtColor(img, cv2.COLOR_BGR2GRAY)\n",
    "    faces = face_cascade.detectMultiScale(gray,1.1,6) \n",
    "    for (x,y,w,h) in faces:\n",
    "        cv2.rectangle(img,(x,y),(x+w,y+h),(0,255,0),2) #bottom left and top right coordinate\n",
    "        roi_gray = gray[y:y+h,x:x+w]\n",
    "        roi_color = img[y:y+h,x:x+w]\n",
    "        eyes = eye_cascade.detectMultiScale(roi_gray)\n",
    "        for (ex,ey,ew,eh) in eyes:\n",
    "            _, maximum = torch.max(result.data, 1)\n",
    "            prediction = maximum.item()\n",
    "\n",
    "            \n",
    "            if prediction == 0:\n",
    "                cv2.putText(frame, \"Mask ON\", (x,y - 10), font, font_scale, green, thickness)\n",
    "                cv2.rectangle(frame, (x, y), (x+w, y+h), green, 2)\n",
    "            elif prediction == 1:\n",
    "                cv2.putText(frame, \"No Mask\", (x,y - 10), font, font_scale, red, thickness)\n",
    "                cv2.rectangle(frame, (x, y), (x+w, y+h), red, 2)\n",
    "        \n",
    "    \n",
    "    cv2.imshow('img',img)\n",
    "    k= cv2.waitKey(30) & 0xff\n",
    "    if k==27:\n",
    "        break\n",
    "        \n",
    "cap.release()\n",
    "cv2.destroyAllWindows()"
   ]
  },
  {
   "cell_type": "code",
   "execution_count": null,
   "metadata": {},
   "outputs": [],
   "source": [
    "            _, maximum = torch.max(result.data, 1)\n",
    "            prediction = maximum.item()\n",
    "\n",
    "            \n",
    "            if prediction == 0:\n",
    "                cv2.putText(frame, \"Mask ON\", (x,y - 10), font, font_scale, green, thickness)\n",
    "                cv2.rectangle(frame, (x, y), (x+w, y+h), green, 2)\n",
    "            elif prediction == 1:\n",
    "                cv2.putText(frame, \"No Mask\", (x,y - 10), font, font_scale, red, thickness)\n",
    "                cv2.rectangle(frame, (x, y), (x+w, y+h), red, 2)\n",
    "        \n",
    "        cv2.imshow('frame',frame)\n",
    "        \n",
    "        if (cv2.waitKey(1) & 0xFF) == ord('q'):\n",
    "            break\n",
    "    else:\n",
    "        break\n",
    "\n",
    "cap.release()\n",
    "cv2.destroyAllWindows()"
   ]
  },
  {
   "cell_type": "code",
   "execution_count": null,
   "metadata": {},
   "outputs": [],
   "source": []
  }
 ],
 "metadata": {
  "kernelspec": {
   "display_name": "Python 3",
   "language": "python",
   "name": "python3"
  },
  "language_info": {
   "codemirror_mode": {
    "name": "ipython",
    "version": 3
   },
   "file_extension": ".py",
   "mimetype": "text/x-python",
   "name": "python",
   "nbconvert_exporter": "python",
   "pygments_lexer": "ipython3",
   "version": "3.7.6"
  },
  "toc": {
   "base_numbering": 1,
   "nav_menu": {},
   "number_sections": true,
   "sideBar": true,
   "skip_h1_title": false,
   "title_cell": "Table of Contents",
   "title_sidebar": "Contents",
   "toc_cell": false,
   "toc_position": {},
   "toc_section_display": true,
   "toc_window_display": false
  },
  "varInspector": {
   "cols": {
    "lenName": 16,
    "lenType": 16,
    "lenVar": 40
   },
   "kernels_config": {
    "python": {
     "delete_cmd_postfix": "",
     "delete_cmd_prefix": "del ",
     "library": "var_list.py",
     "varRefreshCmd": "print(var_dic_list())"
    },
    "r": {
     "delete_cmd_postfix": ") ",
     "delete_cmd_prefix": "rm(",
     "library": "var_list.r",
     "varRefreshCmd": "cat(var_dic_list()) "
    }
   },
   "types_to_exclude": [
    "module",
    "function",
    "builtin_function_or_method",
    "instance",
    "_Feature"
   ],
   "window_display": false
  }
 },
 "nbformat": 4,
 "nbformat_minor": 2
}
