{
 "cells": [
  {
   "cell_type": "code",
   "execution_count": 1,
   "metadata": {
    "ExecuteTime": {
     "end_time": "2020-05-28T18:17:54.643653Z",
     "start_time": "2020-05-28T18:17:31.220342Z"
    }
   },
   "outputs": [],
   "source": [
    "# /// Basic libraries\n",
    "import numpy as np\n",
    "import pandas as pd\n",
    "import random\n",
    "\n",
    "# /// Path files and xml manipulation\n",
    "from os.path import isfile, join\n",
    "import xmltodict #library that treats xmls as json files\n",
    "import os\n",
    "from os import listdir #os library that lists all the directories\n",
    "\n",
    "# /// Image processing\n",
    "import cv2 #opencv\n",
    "\n",
    "# /// Visualization\n",
    "import matplotlib.pyplot as plt\n",
    "import seaborn as sns"
   ]
  },
  {
   "cell_type": "code",
   "execution_count": 20,
   "metadata": {
    "ExecuteTime": {
     "end_time": "2020-05-28T18:18:15.893182Z",
     "start_time": "2020-05-28T18:18:15.886675Z"
    }
   },
   "outputs": [],
   "source": [
    "def path_separation(image_name):\n",
    "    \n",
    "    \"\"\"\n",
    "    This function extract the image and label path to reassign the same name to both files.\n",
    "    And return the new image and label path of the images.\n",
    "    \n",
    "    \"\"\"\n",
    "    \n",
    "    path_master = '../ih-final-project/data/medical-masks-dataset/'\n",
    "    image_path = path_master + 'images/' + image_name\n",
    "    \n",
    "    if image_name[-4:] == 'jpeg':\n",
    "        label_name = image_name[:-5] + '.xml'\n",
    "    else:\n",
    "        label_name = image_name[:-4] + '.xml'\n",
    "    \n",
    "    label_path = path_master + 'labels/' + label_name\n",
    "        \n",
    "        \n",
    "    return  image_path, label_path"
   ]
  },
  {
   "cell_type": "code",
   "execution_count": 26,
   "metadata": {
    "ExecuteTime": {
     "end_time": "2020-05-28T18:20:36.215736Z",
     "start_time": "2020-05-28T18:20:36.207214Z"
    }
   },
   "outputs": [
    {
     "data": {
      "text/plain": [
       "('../ih-final-project/data/medical-masks-dataset/images/0002526673.jpg',\n",
       " '../ih-final-project/data/medical-masks-dataset/labels/0002526673.xml')"
      ]
     },
     "execution_count": 26,
     "metadata": {},
     "output_type": "execute_result"
    }
   ],
   "source": [
    "path_separation('0002526673.jpg')"
   ]
  },
  {
   "cell_type": "code",
   "execution_count": 21,
   "metadata": {
    "ExecuteTime": {
     "end_time": "2020-05-28T18:18:17.123716Z",
     "start_time": "2020-05-28T18:18:17.112396Z"
    }
   },
   "outputs": [],
   "source": [
    "def parse_xml(label_path):\n",
    "\n",
    "    \"\"\"\n",
    "    With this function we can obtain the necessary information of each image.\n",
    "    XML files contain their descriptions like their locations, bounding box and labels good, none or bad.\n",
    "    \n",
    "    \"\"\"\n",
    "    \n",
    "    x = xmltodict.parse(open(label_path , 'rb'))\n",
    "    item_list = x['annotation']['object']\n",
    "    \n",
    "    # when image has only one bounding box\n",
    "    if not isinstance(item_list, list):\n",
    "        item_list = [item_list]\n",
    "        \n",
    "    result = []\n",
    "    \n",
    "    for item in item_list:\n",
    "        name = item['name']\n",
    "        bndbox = [(int(item['bndbox']['xmin']), int(item['bndbox']['ymin'])),\n",
    "                  (int(item['bndbox']['xmax']), int(item['bndbox']['ymax']))]       \n",
    "        result.append((name, bndbox))\n",
    "    \n",
    "    size = [int(x['annotation']['size']['width']), \n",
    "            int(x['annotation']['size']['height'])]\n",
    "    \n",
    "    # result contains name(good, bad, none) and its box's coords\n",
    "    # size contains width and height of bounding box\n",
    "    return result, size  "
   ]
  },
  {
   "cell_type": "code",
   "execution_count": 28,
   "metadata": {
    "ExecuteTime": {
     "end_time": "2020-05-28T18:21:36.861997Z",
     "start_time": "2020-05-28T18:21:36.752009Z"
    }
   },
   "outputs": [
    {
     "data": {
      "text/plain": [
       "([('good', [(452, 228), (505, 310)]), ('good', [(179, 238), (207, 267)])],\n",
       " [1033, 675])"
      ]
     },
     "execution_count": 28,
     "metadata": {},
     "output_type": "execute_result"
    }
   ],
   "source": [
    "parse_xml('../ih-final-project/data/medical-masks-dataset/labels/0002526673.xml')"
   ]
  },
  {
   "cell_type": "code",
   "execution_count": null,
   "metadata": {},
   "outputs": [],
   "source": []
  }
 ],
 "metadata": {
  "kernelspec": {
   "display_name": "Python 3",
   "language": "python",
   "name": "python3"
  },
  "language_info": {
   "codemirror_mode": {
    "name": "ipython",
    "version": 3
   },
   "file_extension": ".py",
   "mimetype": "text/x-python",
   "name": "python",
   "nbconvert_exporter": "python",
   "pygments_lexer": "ipython3",
   "version": "3.7.6"
  },
  "toc": {
   "base_numbering": 1,
   "nav_menu": {},
   "number_sections": true,
   "sideBar": true,
   "skip_h1_title": false,
   "title_cell": "Table of Contents",
   "title_sidebar": "Contents",
   "toc_cell": false,
   "toc_position": {},
   "toc_section_display": true,
   "toc_window_display": false
  },
  "varInspector": {
   "cols": {
    "lenName": 16,
    "lenType": 16,
    "lenVar": 40
   },
   "kernels_config": {
    "python": {
     "delete_cmd_postfix": "",
     "delete_cmd_prefix": "del ",
     "library": "var_list.py",
     "varRefreshCmd": "print(var_dic_list())"
    },
    "r": {
     "delete_cmd_postfix": ") ",
     "delete_cmd_prefix": "rm(",
     "library": "var_list.r",
     "varRefreshCmd": "cat(var_dic_list()) "
    }
   },
   "types_to_exclude": [
    "module",
    "function",
    "builtin_function_or_method",
    "instance",
    "_Feature"
   ],
   "window_display": false
  }
 },
 "nbformat": 4,
 "nbformat_minor": 4
}
